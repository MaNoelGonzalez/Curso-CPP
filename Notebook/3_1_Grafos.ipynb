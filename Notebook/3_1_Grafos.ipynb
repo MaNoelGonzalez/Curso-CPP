{
 "cells": [
  {
   "cell_type": "markdown",
   "metadata": {},
   "source": [
    "# Grafos en C++\n",
    "\n",
    "Ahora si va lo que matias puso antes."
   ]
  },
  {
   "cell_type": "markdown",
   "metadata": {},
   "source": [
    "## Matrices de Adyacencia\n",
    "\n",
    "Prompt>> Escribeme un ejemplo de un grafo no dirigido de 5 vertices, utilizando su notacion matematica y creando su matriz de adyacencia utilizando 0 y 1.\n",
    "\n",
    "$ G = (V, A) $ donde \n",
    "* V = {0,1,2,3,4}\n",
    "* A = {{0,4},{0,3},{1,4},{2},{2,3},{1,3},{2,4}} \n",
    "\n",
    "<p align=\"center\">\n",
    "<img src=\"imagenes/ejemploGraf.png\" height=\"150\" width=\"\" />\n",
    "</p>\n",
    "\n",
    "Por lo tanto la matriz de adyacencia queda\n",
    "\n",
    "<p align=\"center\">\n",
    "<img src=\"imagenes/matrizGraf.png\" height=\"200\" width=\"\" />\n",
    "</p>"
   ]
  },
  {
   "cell_type": "code",
   "execution_count": 26,
   "metadata": {
    "vscode": {
     "languageId": "plaintext"
    }
   },
   "outputs": [],
   "source": [
    "#include <vector>\n",
    "#include<iostream>\n",
    "#include<algorithm>\n",
    "\n",
    "\n",
    "class Grafo {\n",
    "    std::vector<std::vector<int>> arr;\n",
    "    public : \n",
    "    \n",
    "    Grafo(int v){  //default initializer\n",
    "        arr.resize(v);\n",
    "    }\n",
    "    \n",
    "    \n",
    "    \n",
    "\n",
    "\n",
    "\n",
    "}\n",
    "\n"
   ]
  },
  {
   "cell_type": "markdown",
   "metadata": {},
   "source": [
    "Como creo clases en C++\n",
    "\n",
    "Esto ira a un cuaderno nuevo que haremos la clase que viene"
   ]
  }
 ],
 "metadata": {
  "kernelspec": {
   "display_name": "C++17",
   "language": "C++17",
   "name": "xcpp17"
  },
  "language_info": {
   "codemirror_mode": "text/x-c++src",
   "file_extension": ".cpp",
   "mimetype": "text/x-c++src",
   "name": "c++",
   "version": "17"
  },
  "orig_nbformat": 4
 },
 "nbformat": 4,
 "nbformat_minor": 2
}
